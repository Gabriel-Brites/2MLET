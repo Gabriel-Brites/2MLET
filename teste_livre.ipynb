{
 "cells": [
  {
   "cell_type": "markdown",
   "metadata": {},
   "source": [
    "# Teste com beautiful soup"
   ]
  },
  {
   "cell_type": "code",
   "execution_count": 23,
   "metadata": {},
   "outputs": [],
   "source": [
    "from bs4 import BeautifulSoup\n",
    "import requests\n",
    "\n",
    "r = requests.get('https://iseb3.com.br/respostas-em-planilhas') \n",
    "soup = BeautifulSoup(r.content, 'html.parser')\n",
    "\n",
    "\n"
   ]
  },
  {
   "cell_type": "code",
   "execution_count": 29,
   "metadata": {},
   "outputs": [
    {
     "data": {
      "text/plain": [
       "[<a accesskey=\"1\" aria-label=\"Ir para o conteúdo principal\" class=\"menu-item-acessivel\" href=\"#conteudo-principal\">Ir conteúdo</a>,\n",
       " <a accesskey=\"2\" aria-label=\"Ir para o menu\" class=\"menu-item-acessivel\" href=\"#cabecalho\">Ir menu</a>,\n",
       " <a accesskey=\"3\" aria-label=\"Ir para o rodapé\" class=\"menu-item-acessivel\" href=\"#rodape\">Ir rodapé</a>,\n",
       " <a href=\"https://iseb3.com.br/\">\n",
       " <img alt=\"logo ise\" aria-label=\"logo ise\" class=\"img-responsive\" src=\"/assets/themes/iseb3/assets/images/logo-b3-92f99b8b6d05685d7ab9c914c82d12bfb447b3aba63b98b7d389a958418fd9d9.png\"/>\n",
       " </a>,\n",
       " <a class=\"menu_link\" href=\"https://plataforma.iseb3.com.br \">\n",
       "             SISTEMA ISE B3\n",
       "           </a>,\n",
       " <a class=\"menu_link\" href=\"https://iseb3.com.br/anos-anteriores\">\n",
       "             Anos anteriores\n",
       "           </a>,\n",
       " <a href=\"https://iseb3.com.br/\">\n",
       " <img alt=\"logo ise b3\" aria-label=\"logo ise b3\" class=\"img-responsive\" src=\"/assets/themes/iseb3/assets/images/logo-2629193259ddae063787ac76f1ed9f6831f5dccedeb679ae909c66510f227a1b.png\"/>\n",
       " <!--\n",
       "           <img class=\"img-responsive\" alt=\"logo ise b3\" src=\"https://iseb3.com.br/assets/camaleon_cms/camaleon-fb80e22c681bdcc089dc3615bca4d9ba30329cbd30a1e64fd44bc86dd0ea2236.png\" />\n",
       "           -->\n",
       " </a>,\n",
       " <a class=\"dropdown-toggle menu_link\" data-toggle=\"dropdown\" href=\"#\">Sobre</a>,\n",
       " <a class=\"menu_link\" href=\"/o-que-e-o-ise\">O que é o ISE B3</a>,\n",
       " <a class=\"menu_link\" href=\"/metodologia\">Metodologia</a>,\n",
       " <a class=\"menu_link\" href=\"/como-participar\">Como participar</a>,\n",
       " <a class=\"menu_link\" href=\"/carteiras-e-questionarios\">Carteiras e questionários</a>,\n",
       " <a class=\"menu_link\" href=\"/faq\">FAQ</a>,\n",
       " <a class=\"menu_link\" href=\"/contato\">Contato</a>,\n",
       " <a class=\"dropdown-toggle menu_link\" data-toggle=\"dropdown\" href=\"#\">Atividades</a>,\n",
       " <a class=\"menu_link\" href=\"/atividades-20242025\">Atividades 2024 e 2025</a>,\n",
       " <a class=\"menu_link\" href=\"/empresas-elegiveis-2023\">Empresas elegíveis 2023</a>,\n",
       " <a class=\"menu_link\" href=\"/questionario-ise-b3-2023\">Questionário ISE B3 2023</a>,\n",
       " <a class=\"current-link menu_link\" href=\"/respostas-em-planilhas\">Respostas em planilhas</a>,\n",
       " <a class=\"menu_link\" href=\"/apresentacoes\">Apresentações</a>,\n",
       " <a class=\"menu_link\" href=\"/publicacoeseestudos\">Publicações e estudos</a>,\n",
       " <a class=\"menu_link\" href=\"/esg-workspace\">ESG Workspace</a>,\n",
       " <a class=\"menu_link\" href=\"https://iseb3.com.br/simulado-ise-b3-2024\">Simulado ISE B3</a>,\n",
       " <a class=\"menu_link\" href=\"/parcerias\">Parcerias</a>,\n",
       " <a href=\"https://iseb3.com.br/page\">Page</a>,\n",
       " <a href=\"https://iseb3.com.br/respostas-participantes-processo-20232024\" rel=\"noopener\" target=\"_blank\" title=\"Abre página com as planilhas para download\"><strong>Participantes processo ISE B3 2023/2024</strong></a>,\n",
       " <a href=\"http://iseb3.com.br/respostas-participantes-processo-20222023\" rel=\"noopener\" target=\"_blank\" title=\"Abre página com as planilhas para download\"><strong>Participantes processo ISE B3 2022/2023</strong></a>,\n",
       " <a href=\"http://iseb3.com.br/respostas-participantes-em-2021-2022\" rel=\"noopener\" target=\"_blank\" title=\"Abre página com respostas das empresas do processo 2021\"><span><strong>Participantes processo ISE B3 2021/2022</strong></span></a>,\n",
       " <a href=\"http://iseb3.com.br/respostas-carteira-2021\" rel=\"noopener\" target=\"_blank\" title=\"Abre em uma nova aba uma página em que as respostas das empresas da carteira 2021 estão disponíveis no formato em Excel\"><strong>Carteira ISE B3 2021</strong></a>,\n",
       " <a href=\"http://iseb3.com.br/respostas-carteira-2020\" rel=\"noopener\" target=\"_blank\" title=\"Abre em uma nova aba uma página em que as respostas das empresas da carteira 2020 estão disponíveis no formato em Excel\"><span><strong><span>Carteira ISE B3 2020</span></strong></span></a>,\n",
       " <a href=\"http://iseb3.com.br/respostas-carteira-2021\" rel=\"noopener\" target=\"_blank\" title=\"Abre em uma nova aba uma página em que as respostas das empresas da carteira 2021 estão disponíveis no formato em Excel\"><span></span></a>,\n",
       " <a href=\"https://iseb3-site.s3.amazonaws.com/politica-de-privacidade-iseb3-site-plataforma.pdf\" target=\"_blank\">Política de privacidade</a>,\n",
       " <a href=\"https://iseb3-site.s3.amazonaws.com/termos-de-uso-iseb3.pdf\" target=\"_blank\">Termos de uso</a>,\n",
       " <a href=\"https://iseb3-site.s3.amazonaws.com/politica-de-cookies-iseb3.pdf\" target=\"_blank\">Política de cookies</a>,\n",
       " <a href=\"http://ecostage.com.br\">\n",
       " <img alt=\"logo ecostage\" aria-label=\"logo ecostage\" class=\"img-responsive\" src=\"/assets/themes/iseb3/assets/images/ecostage-34f53342dd094fbfa10acd51c934162aa88c46a7f56638ca41d9d9655dd34f96.svg\"/>\n",
       " </a>]"
      ]
     },
     "execution_count": 29,
     "metadata": {},
     "output_type": "execute_result"
    }
   ],
   "source": [
    "soup.find_all('a', href=True)"
   ]
  },
  {
   "cell_type": "markdown",
   "metadata": {},
   "source": [
    "# Teste com função super"
   ]
  },
  {
   "cell_type": "code",
   "execution_count": null,
   "metadata": {},
   "outputs": [],
   "source": [
    "class Parent:                    #Parent class\n",
    "   def __init__(self,name):\n",
    "       self.name=name\n",
    " \n",
    "   def show(self):\n",
    "       print(self.name)\n",
    " \n",
    "class Child(Parent):              #child class\n",
    "    def __init__(self,name,age):\n",
    "        super().__init__(name)\n",
    "        self.age=age\n",
    " \n",
    "    def showName(self):\n",
    "        print(self.name,self.age)\n",
    " \n",
    "child=Child(\"nin\",12)\n",
    "parent=Parent(\"ninad\")\n",
    "child.showName()\n",
    "parent.show()"
   ]
  }
 ],
 "metadata": {
  "kernelspec": {
   "display_name": ".venv",
   "language": "python",
   "name": "python3"
  },
  "language_info": {
   "codemirror_mode": {
    "name": "ipython",
    "version": 3
   },
   "file_extension": ".py",
   "mimetype": "text/x-python",
   "name": "python",
   "nbconvert_exporter": "python",
   "pygments_lexer": "ipython3",
   "version": "3.11.9"
  }
 },
 "nbformat": 4,
 "nbformat_minor": 2
}
